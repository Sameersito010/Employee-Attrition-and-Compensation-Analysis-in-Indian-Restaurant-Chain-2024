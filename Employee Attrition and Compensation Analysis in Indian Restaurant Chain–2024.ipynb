{
  "nbformat": 4,
  "nbformat_minor": 0,
  "metadata": {
    "colab": {
      "provenance": [],
      "toc_visible": true,
      "mount_file_id": "1DbuVamSueGNm9aUB10UdHtA_hCQB7vzX",
      "authorship_tag": "ABX9TyPBdG78BGAK7XxHDGXZp65y",
      "include_colab_link": true
    },
    "kernelspec": {
      "name": "python3",
      "display_name": "Python 3"
    },
    "language_info": {
      "name": "python"
    }
  },
  "cells": [
    {
      "cell_type": "markdown",
      "metadata": {
        "id": "view-in-github",
        "colab_type": "text"
      },
      "source": [
        "<a href=\"https://colab.research.google.com/github/Sameersito010/-Behind-the-Screens-Mobile-Sales-in-Power-BI/blob/main/Employee%20Attrition%20and%20Compensation%20Analysis%20in%20Indian%20Restaurant%20Chain%E2%80%932024.ipynb\" target=\"_parent\"><img src=\"https://colab.research.google.com/assets/colab-badge.svg\" alt=\"Open In Colab\"/></a>"
      ]
    },
    {
      "cell_type": "code",
      "execution_count": null,
      "metadata": {
        "id": "tV_O5_WvgizG"
      },
      "outputs": [],
      "source": []
    },
    {
      "cell_type": "code",
      "source": [
        "import pandas as pd\n",
        "\n",
        "# Load the Excel file\n",
        "file_path = \"employee_database_pune_restaurant_attrition.xlsx\"\n",
        "df = pd.read_excel(file_path)\n",
        "\n",
        "# Display the first 5 rows\n",
        "print(df.head())\n"
      ],
      "metadata": {
        "colab": {
          "base_uri": "https://localhost:8080/"
        },
        "id": "ad2YsdgHhTuR",
        "outputId": "3914607f-80fc-448c-c3e7-fe6cfd0aef88"
      },
      "execution_count": null,
      "outputs": [
        {
          "output_type": "stream",
          "name": "stdout",
          "text": [
            "  Employee_id                  Name   Designation  Department Location  \\\n",
            "0     EMP0001        Justin Stewart       Manager     Service     Pune   \n",
            "1     EMP0002       Debbie Gonzalez          Chef  Front Desk   Mumbai   \n",
            "2     EMP0003       Veronica Bowman  Receptionist  Management   Mumbai   \n",
            "3     EMP0004       Justin Gonzales          Chef         Bar  Kolkata   \n",
            "4     EMP0005  Christina Washington     Sous Chef     Kitchen   Mumbai   \n",
            "\n",
            "  Date_of_joining  Basic    HRA    DA   CCA  ...  Incentives Amount  Arrear  \\\n",
            "0      2024-07-02  27870  11148  2787   589  ...                  0       0   \n",
            "1      2024-07-19  27856  11142  2785   929  ...                  0    4642   \n",
            "2      2024-09-17  17055   6822  1705  1480  ...               3112       0   \n",
            "3      2024-02-28  27571  11028  2757   627  ...               2401    9190   \n",
            "4      2024-09-17  19482   7792  1948   581  ...                  0    4545   \n",
            "\n",
            "   Gross    PF   PT  Misc Deduction Amount    Net  \\\n",
            "0  45312  3344  200                      0  41768   \n",
            "1  48756  3342  200                      0  45214   \n",
            "2  32052  2046  200                    100  29706   \n",
            "3  55624  3308  200                    100  52016   \n",
            "4  35801  2337  200                    100  33164   \n",
            "\n",
            "                         Remark Date of leaving Attrition  \n",
            "0            Breakages: cutlery             NaT         0  \n",
            "1            Breakages: cutlery             NaT         0  \n",
            "2           Breakages: crockery             NaT         0  \n",
            "3  Transfer from Mumbai to Pune      2024-03-21         0  \n",
            "4                     Absconded      2024-10-12         1  \n",
            "\n",
            "[5 rows x 21 columns]\n"
          ]
        }
      ]
    },
    {
      "cell_type": "markdown",
      "source": [
        "2. Basic Structure Check"
      ],
      "metadata": {
        "id": "azVHyFJLimZo"
      }
    },
    {
      "cell_type": "code",
      "source": [
        "df.shape  # Rows, Columns\n",
        "\n"
      ],
      "metadata": {
        "colab": {
          "base_uri": "https://localhost:8080/"
        },
        "id": "HLzNjst6ixvU",
        "outputId": "1dda1356-89ee-435d-d5c8-c88ac29b7114"
      },
      "execution_count": null,
      "outputs": [
        {
          "output_type": "execute_result",
          "data": {
            "text/plain": [
              "(200, 21)"
            ]
          },
          "metadata": {},
          "execution_count": 64
        }
      ]
    },
    {
      "cell_type": "code",
      "source": [
        "df.columns  # List of column names"
      ],
      "metadata": {
        "colab": {
          "base_uri": "https://localhost:8080/"
        },
        "id": "4oiYCFWei0ff",
        "outputId": "3cc11a25-4865-4f3d-8930-6bf8520befe3"
      },
      "execution_count": null,
      "outputs": [
        {
          "output_type": "execute_result",
          "data": {
            "text/plain": [
              "Index(['Employee_id', 'Name', 'Designation', 'Department', 'Location',\n",
              "       'Date_of_joining', 'Basic', 'HRA', 'DA', 'CCA', 'Other Allowance',\n",
              "       'Incentives Amount', 'Arrear', 'Gross', 'PF', 'PT',\n",
              "       'Misc Deduction Amount', 'Net', 'Remark', 'Date of leaving',\n",
              "       'Attrition'],\n",
              "      dtype='object')"
            ]
          },
          "metadata": {},
          "execution_count": 65
        }
      ]
    },
    {
      "cell_type": "code",
      "source": [
        "df.info()  # Data types, null counts"
      ],
      "metadata": {
        "colab": {
          "base_uri": "https://localhost:8080/"
        },
        "id": "EOTJFqini6Gb",
        "outputId": "0cf46bca-5ba2-4d6c-9b03-2616b6abff9c"
      },
      "execution_count": null,
      "outputs": [
        {
          "output_type": "stream",
          "name": "stdout",
          "text": [
            "<class 'pandas.core.frame.DataFrame'>\n",
            "RangeIndex: 200 entries, 0 to 199\n",
            "Data columns (total 21 columns):\n",
            " #   Column                 Non-Null Count  Dtype         \n",
            "---  ------                 --------------  -----         \n",
            " 0   Employee_id            200 non-null    object        \n",
            " 1   Name                   200 non-null    object        \n",
            " 2   Designation            200 non-null    object        \n",
            " 3   Department             200 non-null    object        \n",
            " 4   Location               200 non-null    object        \n",
            " 5   Date_of_joining        200 non-null    datetime64[ns]\n",
            " 6   Basic                  200 non-null    int64         \n",
            " 7   HRA                    200 non-null    int64         \n",
            " 8   DA                     200 non-null    int64         \n",
            " 9   CCA                    200 non-null    int64         \n",
            " 10  Other Allowance        200 non-null    int64         \n",
            " 11  Incentives Amount      200 non-null    int64         \n",
            " 12  Arrear                 200 non-null    int64         \n",
            " 13  Gross                  200 non-null    int64         \n",
            " 14  PF                     200 non-null    int64         \n",
            " 15  PT                     200 non-null    int64         \n",
            " 16  Misc Deduction Amount  200 non-null    int64         \n",
            " 17  Net                    200 non-null    int64         \n",
            " 18  Remark                 200 non-null    object        \n",
            " 19  Date of leaving        73 non-null     datetime64[ns]\n",
            " 20  Attrition              200 non-null    int64         \n",
            "dtypes: datetime64[ns](2), int64(13), object(6)\n",
            "memory usage: 32.9+ KB\n"
          ]
        }
      ]
    },
    {
      "cell_type": "code",
      "source": [
        "\n",
        "df.head()  # First few rows\n"
      ],
      "metadata": {
        "colab": {
          "base_uri": "https://localhost:8080/",
          "height": 412
        },
        "id": "ZZ2kqeETjLGq",
        "outputId": "24f5fc79-b9d7-4de6-ae23-c90f9861f0f1"
      },
      "execution_count": null,
      "outputs": [
        {
          "output_type": "execute_result",
          "data": {
            "text/plain": [
              "  Employee_id                  Name   Designation  Department Location  \\\n",
              "0     EMP0001        Justin Stewart       Manager     Service     Pune   \n",
              "1     EMP0002       Debbie Gonzalez          Chef  Front Desk   Mumbai   \n",
              "2     EMP0003       Veronica Bowman  Receptionist  Management   Mumbai   \n",
              "3     EMP0004       Justin Gonzales          Chef         Bar  Kolkata   \n",
              "4     EMP0005  Christina Washington     Sous Chef     Kitchen   Mumbai   \n",
              "\n",
              "  Date_of_joining  Basic    HRA    DA   CCA  ...  Incentives Amount  Arrear  \\\n",
              "0      2024-07-02  27870  11148  2787   589  ...                  0       0   \n",
              "1      2024-07-19  27856  11142  2785   929  ...                  0    4642   \n",
              "2      2024-09-17  17055   6822  1705  1480  ...               3112       0   \n",
              "3      2024-02-28  27571  11028  2757   627  ...               2401    9190   \n",
              "4      2024-09-17  19482   7792  1948   581  ...                  0    4545   \n",
              "\n",
              "   Gross    PF   PT  Misc Deduction Amount    Net  \\\n",
              "0  45312  3344  200                      0  41768   \n",
              "1  48756  3342  200                      0  45214   \n",
              "2  32052  2046  200                    100  29706   \n",
              "3  55624  3308  200                    100  52016   \n",
              "4  35801  2337  200                    100  33164   \n",
              "\n",
              "                         Remark Date of leaving Attrition  \n",
              "0            Breakages: cutlery             NaT         0  \n",
              "1            Breakages: cutlery             NaT         0  \n",
              "2           Breakages: crockery             NaT         0  \n",
              "3  Transfer from Mumbai to Pune      2024-03-21         0  \n",
              "4                     Absconded      2024-10-12         1  \n",
              "\n",
              "[5 rows x 21 columns]"
            ],
            "text/html": [
              "\n",
              "  <div id=\"df-c51b658e-c3da-49e2-8acd-437076522a34\" class=\"colab-df-container\">\n",
              "    <div>\n",
              "<style scoped>\n",
              "    .dataframe tbody tr th:only-of-type {\n",
              "        vertical-align: middle;\n",
              "    }\n",
              "\n",
              "    .dataframe tbody tr th {\n",
              "        vertical-align: top;\n",
              "    }\n",
              "\n",
              "    .dataframe thead th {\n",
              "        text-align: right;\n",
              "    }\n",
              "</style>\n",
              "<table border=\"1\" class=\"dataframe\">\n",
              "  <thead>\n",
              "    <tr style=\"text-align: right;\">\n",
              "      <th></th>\n",
              "      <th>Employee_id</th>\n",
              "      <th>Name</th>\n",
              "      <th>Designation</th>\n",
              "      <th>Department</th>\n",
              "      <th>Location</th>\n",
              "      <th>Date_of_joining</th>\n",
              "      <th>Basic</th>\n",
              "      <th>HRA</th>\n",
              "      <th>DA</th>\n",
              "      <th>CCA</th>\n",
              "      <th>...</th>\n",
              "      <th>Incentives Amount</th>\n",
              "      <th>Arrear</th>\n",
              "      <th>Gross</th>\n",
              "      <th>PF</th>\n",
              "      <th>PT</th>\n",
              "      <th>Misc Deduction Amount</th>\n",
              "      <th>Net</th>\n",
              "      <th>Remark</th>\n",
              "      <th>Date of leaving</th>\n",
              "      <th>Attrition</th>\n",
              "    </tr>\n",
              "  </thead>\n",
              "  <tbody>\n",
              "    <tr>\n",
              "      <th>0</th>\n",
              "      <td>EMP0001</td>\n",
              "      <td>Justin Stewart</td>\n",
              "      <td>Manager</td>\n",
              "      <td>Service</td>\n",
              "      <td>Pune</td>\n",
              "      <td>2024-07-02</td>\n",
              "      <td>27870</td>\n",
              "      <td>11148</td>\n",
              "      <td>2787</td>\n",
              "      <td>589</td>\n",
              "      <td>...</td>\n",
              "      <td>0</td>\n",
              "      <td>0</td>\n",
              "      <td>45312</td>\n",
              "      <td>3344</td>\n",
              "      <td>200</td>\n",
              "      <td>0</td>\n",
              "      <td>41768</td>\n",
              "      <td>Breakages: cutlery</td>\n",
              "      <td>NaT</td>\n",
              "      <td>0</td>\n",
              "    </tr>\n",
              "    <tr>\n",
              "      <th>1</th>\n",
              "      <td>EMP0002</td>\n",
              "      <td>Debbie Gonzalez</td>\n",
              "      <td>Chef</td>\n",
              "      <td>Front Desk</td>\n",
              "      <td>Mumbai</td>\n",
              "      <td>2024-07-19</td>\n",
              "      <td>27856</td>\n",
              "      <td>11142</td>\n",
              "      <td>2785</td>\n",
              "      <td>929</td>\n",
              "      <td>...</td>\n",
              "      <td>0</td>\n",
              "      <td>4642</td>\n",
              "      <td>48756</td>\n",
              "      <td>3342</td>\n",
              "      <td>200</td>\n",
              "      <td>0</td>\n",
              "      <td>45214</td>\n",
              "      <td>Breakages: cutlery</td>\n",
              "      <td>NaT</td>\n",
              "      <td>0</td>\n",
              "    </tr>\n",
              "    <tr>\n",
              "      <th>2</th>\n",
              "      <td>EMP0003</td>\n",
              "      <td>Veronica Bowman</td>\n",
              "      <td>Receptionist</td>\n",
              "      <td>Management</td>\n",
              "      <td>Mumbai</td>\n",
              "      <td>2024-09-17</td>\n",
              "      <td>17055</td>\n",
              "      <td>6822</td>\n",
              "      <td>1705</td>\n",
              "      <td>1480</td>\n",
              "      <td>...</td>\n",
              "      <td>3112</td>\n",
              "      <td>0</td>\n",
              "      <td>32052</td>\n",
              "      <td>2046</td>\n",
              "      <td>200</td>\n",
              "      <td>100</td>\n",
              "      <td>29706</td>\n",
              "      <td>Breakages: crockery</td>\n",
              "      <td>NaT</td>\n",
              "      <td>0</td>\n",
              "    </tr>\n",
              "    <tr>\n",
              "      <th>3</th>\n",
              "      <td>EMP0004</td>\n",
              "      <td>Justin Gonzales</td>\n",
              "      <td>Chef</td>\n",
              "      <td>Bar</td>\n",
              "      <td>Kolkata</td>\n",
              "      <td>2024-02-28</td>\n",
              "      <td>27571</td>\n",
              "      <td>11028</td>\n",
              "      <td>2757</td>\n",
              "      <td>627</td>\n",
              "      <td>...</td>\n",
              "      <td>2401</td>\n",
              "      <td>9190</td>\n",
              "      <td>55624</td>\n",
              "      <td>3308</td>\n",
              "      <td>200</td>\n",
              "      <td>100</td>\n",
              "      <td>52016</td>\n",
              "      <td>Transfer from Mumbai to Pune</td>\n",
              "      <td>2024-03-21</td>\n",
              "      <td>0</td>\n",
              "    </tr>\n",
              "    <tr>\n",
              "      <th>4</th>\n",
              "      <td>EMP0005</td>\n",
              "      <td>Christina Washington</td>\n",
              "      <td>Sous Chef</td>\n",
              "      <td>Kitchen</td>\n",
              "      <td>Mumbai</td>\n",
              "      <td>2024-09-17</td>\n",
              "      <td>19482</td>\n",
              "      <td>7792</td>\n",
              "      <td>1948</td>\n",
              "      <td>581</td>\n",
              "      <td>...</td>\n",
              "      <td>0</td>\n",
              "      <td>4545</td>\n",
              "      <td>35801</td>\n",
              "      <td>2337</td>\n",
              "      <td>200</td>\n",
              "      <td>100</td>\n",
              "      <td>33164</td>\n",
              "      <td>Absconded</td>\n",
              "      <td>2024-10-12</td>\n",
              "      <td>1</td>\n",
              "    </tr>\n",
              "  </tbody>\n",
              "</table>\n",
              "<p>5 rows × 21 columns</p>\n",
              "</div>\n",
              "    <div class=\"colab-df-buttons\">\n",
              "\n",
              "  <div class=\"colab-df-container\">\n",
              "    <button class=\"colab-df-convert\" onclick=\"convertToInteractive('df-c51b658e-c3da-49e2-8acd-437076522a34')\"\n",
              "            title=\"Convert this dataframe to an interactive table.\"\n",
              "            style=\"display:none;\">\n",
              "\n",
              "  <svg xmlns=\"http://www.w3.org/2000/svg\" height=\"24px\" viewBox=\"0 -960 960 960\">\n",
              "    <path d=\"M120-120v-720h720v720H120Zm60-500h600v-160H180v160Zm220 220h160v-160H400v160Zm0 220h160v-160H400v160ZM180-400h160v-160H180v160Zm440 0h160v-160H620v160ZM180-180h160v-160H180v160Zm440 0h160v-160H620v160Z\"/>\n",
              "  </svg>\n",
              "    </button>\n",
              "\n",
              "  <style>\n",
              "    .colab-df-container {\n",
              "      display:flex;\n",
              "      gap: 12px;\n",
              "    }\n",
              "\n",
              "    .colab-df-convert {\n",
              "      background-color: #E8F0FE;\n",
              "      border: none;\n",
              "      border-radius: 50%;\n",
              "      cursor: pointer;\n",
              "      display: none;\n",
              "      fill: #1967D2;\n",
              "      height: 32px;\n",
              "      padding: 0 0 0 0;\n",
              "      width: 32px;\n",
              "    }\n",
              "\n",
              "    .colab-df-convert:hover {\n",
              "      background-color: #E2EBFA;\n",
              "      box-shadow: 0px 1px 2px rgba(60, 64, 67, 0.3), 0px 1px 3px 1px rgba(60, 64, 67, 0.15);\n",
              "      fill: #174EA6;\n",
              "    }\n",
              "\n",
              "    .colab-df-buttons div {\n",
              "      margin-bottom: 4px;\n",
              "    }\n",
              "\n",
              "    [theme=dark] .colab-df-convert {\n",
              "      background-color: #3B4455;\n",
              "      fill: #D2E3FC;\n",
              "    }\n",
              "\n",
              "    [theme=dark] .colab-df-convert:hover {\n",
              "      background-color: #434B5C;\n",
              "      box-shadow: 0px 1px 3px 1px rgba(0, 0, 0, 0.15);\n",
              "      filter: drop-shadow(0px 1px 2px rgba(0, 0, 0, 0.3));\n",
              "      fill: #FFFFFF;\n",
              "    }\n",
              "  </style>\n",
              "\n",
              "    <script>\n",
              "      const buttonEl =\n",
              "        document.querySelector('#df-c51b658e-c3da-49e2-8acd-437076522a34 button.colab-df-convert');\n",
              "      buttonEl.style.display =\n",
              "        google.colab.kernel.accessAllowed ? 'block' : 'none';\n",
              "\n",
              "      async function convertToInteractive(key) {\n",
              "        const element = document.querySelector('#df-c51b658e-c3da-49e2-8acd-437076522a34');\n",
              "        const dataTable =\n",
              "          await google.colab.kernel.invokeFunction('convertToInteractive',\n",
              "                                                    [key], {});\n",
              "        if (!dataTable) return;\n",
              "\n",
              "        const docLinkHtml = 'Like what you see? Visit the ' +\n",
              "          '<a target=\"_blank\" href=https://colab.research.google.com/notebooks/data_table.ipynb>data table notebook</a>'\n",
              "          + ' to learn more about interactive tables.';\n",
              "        element.innerHTML = '';\n",
              "        dataTable['output_type'] = 'display_data';\n",
              "        await google.colab.output.renderOutput(dataTable, element);\n",
              "        const docLink = document.createElement('div');\n",
              "        docLink.innerHTML = docLinkHtml;\n",
              "        element.appendChild(docLink);\n",
              "      }\n",
              "    </script>\n",
              "  </div>\n",
              "\n",
              "\n",
              "    <div id=\"df-95af2f5a-d19b-4684-8560-2707c56ccc5a\">\n",
              "      <button class=\"colab-df-quickchart\" onclick=\"quickchart('df-95af2f5a-d19b-4684-8560-2707c56ccc5a')\"\n",
              "                title=\"Suggest charts\"\n",
              "                style=\"display:none;\">\n",
              "\n",
              "<svg xmlns=\"http://www.w3.org/2000/svg\" height=\"24px\"viewBox=\"0 0 24 24\"\n",
              "     width=\"24px\">\n",
              "    <g>\n",
              "        <path d=\"M19 3H5c-1.1 0-2 .9-2 2v14c0 1.1.9 2 2 2h14c1.1 0 2-.9 2-2V5c0-1.1-.9-2-2-2zM9 17H7v-7h2v7zm4 0h-2V7h2v10zm4 0h-2v-4h2v4z\"/>\n",
              "    </g>\n",
              "</svg>\n",
              "      </button>\n",
              "\n",
              "<style>\n",
              "  .colab-df-quickchart {\n",
              "      --bg-color: #E8F0FE;\n",
              "      --fill-color: #1967D2;\n",
              "      --hover-bg-color: #E2EBFA;\n",
              "      --hover-fill-color: #174EA6;\n",
              "      --disabled-fill-color: #AAA;\n",
              "      --disabled-bg-color: #DDD;\n",
              "  }\n",
              "\n",
              "  [theme=dark] .colab-df-quickchart {\n",
              "      --bg-color: #3B4455;\n",
              "      --fill-color: #D2E3FC;\n",
              "      --hover-bg-color: #434B5C;\n",
              "      --hover-fill-color: #FFFFFF;\n",
              "      --disabled-bg-color: #3B4455;\n",
              "      --disabled-fill-color: #666;\n",
              "  }\n",
              "\n",
              "  .colab-df-quickchart {\n",
              "    background-color: var(--bg-color);\n",
              "    border: none;\n",
              "    border-radius: 50%;\n",
              "    cursor: pointer;\n",
              "    display: none;\n",
              "    fill: var(--fill-color);\n",
              "    height: 32px;\n",
              "    padding: 0;\n",
              "    width: 32px;\n",
              "  }\n",
              "\n",
              "  .colab-df-quickchart:hover {\n",
              "    background-color: var(--hover-bg-color);\n",
              "    box-shadow: 0 1px 2px rgba(60, 64, 67, 0.3), 0 1px 3px 1px rgba(60, 64, 67, 0.15);\n",
              "    fill: var(--button-hover-fill-color);\n",
              "  }\n",
              "\n",
              "  .colab-df-quickchart-complete:disabled,\n",
              "  .colab-df-quickchart-complete:disabled:hover {\n",
              "    background-color: var(--disabled-bg-color);\n",
              "    fill: var(--disabled-fill-color);\n",
              "    box-shadow: none;\n",
              "  }\n",
              "\n",
              "  .colab-df-spinner {\n",
              "    border: 2px solid var(--fill-color);\n",
              "    border-color: transparent;\n",
              "    border-bottom-color: var(--fill-color);\n",
              "    animation:\n",
              "      spin 1s steps(1) infinite;\n",
              "  }\n",
              "\n",
              "  @keyframes spin {\n",
              "    0% {\n",
              "      border-color: transparent;\n",
              "      border-bottom-color: var(--fill-color);\n",
              "      border-left-color: var(--fill-color);\n",
              "    }\n",
              "    20% {\n",
              "      border-color: transparent;\n",
              "      border-left-color: var(--fill-color);\n",
              "      border-top-color: var(--fill-color);\n",
              "    }\n",
              "    30% {\n",
              "      border-color: transparent;\n",
              "      border-left-color: var(--fill-color);\n",
              "      border-top-color: var(--fill-color);\n",
              "      border-right-color: var(--fill-color);\n",
              "    }\n",
              "    40% {\n",
              "      border-color: transparent;\n",
              "      border-right-color: var(--fill-color);\n",
              "      border-top-color: var(--fill-color);\n",
              "    }\n",
              "    60% {\n",
              "      border-color: transparent;\n",
              "      border-right-color: var(--fill-color);\n",
              "    }\n",
              "    80% {\n",
              "      border-color: transparent;\n",
              "      border-right-color: var(--fill-color);\n",
              "      border-bottom-color: var(--fill-color);\n",
              "    }\n",
              "    90% {\n",
              "      border-color: transparent;\n",
              "      border-bottom-color: var(--fill-color);\n",
              "    }\n",
              "  }\n",
              "</style>\n",
              "\n",
              "      <script>\n",
              "        async function quickchart(key) {\n",
              "          const quickchartButtonEl =\n",
              "            document.querySelector('#' + key + ' button');\n",
              "          quickchartButtonEl.disabled = true;  // To prevent multiple clicks.\n",
              "          quickchartButtonEl.classList.add('colab-df-spinner');\n",
              "          try {\n",
              "            const charts = await google.colab.kernel.invokeFunction(\n",
              "                'suggestCharts', [key], {});\n",
              "          } catch (error) {\n",
              "            console.error('Error during call to suggestCharts:', error);\n",
              "          }\n",
              "          quickchartButtonEl.classList.remove('colab-df-spinner');\n",
              "          quickchartButtonEl.classList.add('colab-df-quickchart-complete');\n",
              "        }\n",
              "        (() => {\n",
              "          let quickchartButtonEl =\n",
              "            document.querySelector('#df-95af2f5a-d19b-4684-8560-2707c56ccc5a button');\n",
              "          quickchartButtonEl.style.display =\n",
              "            google.colab.kernel.accessAllowed ? 'block' : 'none';\n",
              "        })();\n",
              "      </script>\n",
              "    </div>\n",
              "\n",
              "    </div>\n",
              "  </div>\n"
            ],
            "application/vnd.google.colaboratory.intrinsic+json": {
              "type": "dataframe",
              "variable_name": "df"
            }
          },
          "metadata": {},
          "execution_count": 67
        }
      ]
    },
    {
      "cell_type": "markdown",
      "source": [
        "3. Missing Values Check"
      ],
      "metadata": {
        "id": "uNJQxzB0kOdR"
      }
    },
    {
      "cell_type": "code",
      "source": [
        "df.isnull().sum()"
      ],
      "metadata": {
        "colab": {
          "base_uri": "https://localhost:8080/",
          "height": 743
        },
        "id": "cyt-A3aUkRLv",
        "outputId": "dd8cb8dc-449c-41ab-dce3-ac98479d4308"
      },
      "execution_count": null,
      "outputs": [
        {
          "output_type": "execute_result",
          "data": {
            "text/plain": [
              "Employee_id                0\n",
              "Name                       0\n",
              "Designation                0\n",
              "Department                 0\n",
              "Location                   0\n",
              "Date_of_joining            0\n",
              "Basic                      0\n",
              "HRA                        0\n",
              "DA                         0\n",
              "CCA                        0\n",
              "Other Allowance            0\n",
              "Incentives Amount          0\n",
              "Arrear                     0\n",
              "Gross                      0\n",
              "PF                         0\n",
              "PT                         0\n",
              "Misc Deduction Amount      0\n",
              "Net                        0\n",
              "Remark                     0\n",
              "Date of leaving          127\n",
              "Attrition                  0\n",
              "dtype: int64"
            ],
            "text/html": [
              "<div>\n",
              "<style scoped>\n",
              "    .dataframe tbody tr th:only-of-type {\n",
              "        vertical-align: middle;\n",
              "    }\n",
              "\n",
              "    .dataframe tbody tr th {\n",
              "        vertical-align: top;\n",
              "    }\n",
              "\n",
              "    .dataframe thead th {\n",
              "        text-align: right;\n",
              "    }\n",
              "</style>\n",
              "<table border=\"1\" class=\"dataframe\">\n",
              "  <thead>\n",
              "    <tr style=\"text-align: right;\">\n",
              "      <th></th>\n",
              "      <th>0</th>\n",
              "    </tr>\n",
              "  </thead>\n",
              "  <tbody>\n",
              "    <tr>\n",
              "      <th>Employee_id</th>\n",
              "      <td>0</td>\n",
              "    </tr>\n",
              "    <tr>\n",
              "      <th>Name</th>\n",
              "      <td>0</td>\n",
              "    </tr>\n",
              "    <tr>\n",
              "      <th>Designation</th>\n",
              "      <td>0</td>\n",
              "    </tr>\n",
              "    <tr>\n",
              "      <th>Department</th>\n",
              "      <td>0</td>\n",
              "    </tr>\n",
              "    <tr>\n",
              "      <th>Location</th>\n",
              "      <td>0</td>\n",
              "    </tr>\n",
              "    <tr>\n",
              "      <th>Date_of_joining</th>\n",
              "      <td>0</td>\n",
              "    </tr>\n",
              "    <tr>\n",
              "      <th>Basic</th>\n",
              "      <td>0</td>\n",
              "    </tr>\n",
              "    <tr>\n",
              "      <th>HRA</th>\n",
              "      <td>0</td>\n",
              "    </tr>\n",
              "    <tr>\n",
              "      <th>DA</th>\n",
              "      <td>0</td>\n",
              "    </tr>\n",
              "    <tr>\n",
              "      <th>CCA</th>\n",
              "      <td>0</td>\n",
              "    </tr>\n",
              "    <tr>\n",
              "      <th>Other Allowance</th>\n",
              "      <td>0</td>\n",
              "    </tr>\n",
              "    <tr>\n",
              "      <th>Incentives Amount</th>\n",
              "      <td>0</td>\n",
              "    </tr>\n",
              "    <tr>\n",
              "      <th>Arrear</th>\n",
              "      <td>0</td>\n",
              "    </tr>\n",
              "    <tr>\n",
              "      <th>Gross</th>\n",
              "      <td>0</td>\n",
              "    </tr>\n",
              "    <tr>\n",
              "      <th>PF</th>\n",
              "      <td>0</td>\n",
              "    </tr>\n",
              "    <tr>\n",
              "      <th>PT</th>\n",
              "      <td>0</td>\n",
              "    </tr>\n",
              "    <tr>\n",
              "      <th>Misc Deduction Amount</th>\n",
              "      <td>0</td>\n",
              "    </tr>\n",
              "    <tr>\n",
              "      <th>Net</th>\n",
              "      <td>0</td>\n",
              "    </tr>\n",
              "    <tr>\n",
              "      <th>Remark</th>\n",
              "      <td>0</td>\n",
              "    </tr>\n",
              "    <tr>\n",
              "      <th>Date of leaving</th>\n",
              "      <td>127</td>\n",
              "    </tr>\n",
              "    <tr>\n",
              "      <th>Attrition</th>\n",
              "      <td>0</td>\n",
              "    </tr>\n",
              "  </tbody>\n",
              "</table>\n",
              "</div><br><label><b>dtype:</b> int64</label>"
            ]
          },
          "metadata": {},
          "execution_count": 68
        }
      ]
    },
    {
      "cell_type": "markdown",
      "source": [
        "3. Missing Values Check"
      ],
      "metadata": {
        "id": "P2Mev42Ukamz"
      }
    },
    {
      "cell_type": "code",
      "source": [
        "df.duplicated().sum()"
      ],
      "metadata": {
        "colab": {
          "base_uri": "https://localhost:8080/"
        },
        "id": "940h_cpgkcEt",
        "outputId": "e2572c44-3edb-4563-b98c-cf57428077e0"
      },
      "execution_count": null,
      "outputs": [
        {
          "output_type": "execute_result",
          "data": {
            "text/plain": [
              "np.int64(0)"
            ]
          },
          "metadata": {},
          "execution_count": 69
        }
      ]
    },
    {
      "cell_type": "markdown",
      "source": [],
      "metadata": {
        "id": "i10NmHdokwOl"
      }
    },
    {
      "cell_type": "markdown",
      "source": [
        "5. Data Type Validation"
      ],
      "metadata": {
        "id": "dkwgJ9nykwRa"
      }
    },
    {
      "cell_type": "code",
      "source": [
        "df.dtypes"
      ],
      "metadata": {
        "colab": {
          "base_uri": "https://localhost:8080/",
          "height": 743
        },
        "id": "u8wyf0QjkxEv",
        "outputId": "e02bb497-1c47-4d5f-f1f7-9f598e80ac4f"
      },
      "execution_count": null,
      "outputs": [
        {
          "output_type": "execute_result",
          "data": {
            "text/plain": [
              "Employee_id                      object\n",
              "Name                             object\n",
              "Designation                      object\n",
              "Department                       object\n",
              "Location                         object\n",
              "Date_of_joining          datetime64[ns]\n",
              "Basic                             int64\n",
              "HRA                               int64\n",
              "DA                                int64\n",
              "CCA                               int64\n",
              "Other Allowance                   int64\n",
              "Incentives Amount                 int64\n",
              "Arrear                            int64\n",
              "Gross                             int64\n",
              "PF                                int64\n",
              "PT                                int64\n",
              "Misc Deduction Amount             int64\n",
              "Net                               int64\n",
              "Remark                           object\n",
              "Date of leaving          datetime64[ns]\n",
              "Attrition                         int64\n",
              "dtype: object"
            ],
            "text/html": [
              "<div>\n",
              "<style scoped>\n",
              "    .dataframe tbody tr th:only-of-type {\n",
              "        vertical-align: middle;\n",
              "    }\n",
              "\n",
              "    .dataframe tbody tr th {\n",
              "        vertical-align: top;\n",
              "    }\n",
              "\n",
              "    .dataframe thead th {\n",
              "        text-align: right;\n",
              "    }\n",
              "</style>\n",
              "<table border=\"1\" class=\"dataframe\">\n",
              "  <thead>\n",
              "    <tr style=\"text-align: right;\">\n",
              "      <th></th>\n",
              "      <th>0</th>\n",
              "    </tr>\n",
              "  </thead>\n",
              "  <tbody>\n",
              "    <tr>\n",
              "      <th>Employee_id</th>\n",
              "      <td>object</td>\n",
              "    </tr>\n",
              "    <tr>\n",
              "      <th>Name</th>\n",
              "      <td>object</td>\n",
              "    </tr>\n",
              "    <tr>\n",
              "      <th>Designation</th>\n",
              "      <td>object</td>\n",
              "    </tr>\n",
              "    <tr>\n",
              "      <th>Department</th>\n",
              "      <td>object</td>\n",
              "    </tr>\n",
              "    <tr>\n",
              "      <th>Location</th>\n",
              "      <td>object</td>\n",
              "    </tr>\n",
              "    <tr>\n",
              "      <th>Date_of_joining</th>\n",
              "      <td>datetime64[ns]</td>\n",
              "    </tr>\n",
              "    <tr>\n",
              "      <th>Basic</th>\n",
              "      <td>int64</td>\n",
              "    </tr>\n",
              "    <tr>\n",
              "      <th>HRA</th>\n",
              "      <td>int64</td>\n",
              "    </tr>\n",
              "    <tr>\n",
              "      <th>DA</th>\n",
              "      <td>int64</td>\n",
              "    </tr>\n",
              "    <tr>\n",
              "      <th>CCA</th>\n",
              "      <td>int64</td>\n",
              "    </tr>\n",
              "    <tr>\n",
              "      <th>Other Allowance</th>\n",
              "      <td>int64</td>\n",
              "    </tr>\n",
              "    <tr>\n",
              "      <th>Incentives Amount</th>\n",
              "      <td>int64</td>\n",
              "    </tr>\n",
              "    <tr>\n",
              "      <th>Arrear</th>\n",
              "      <td>int64</td>\n",
              "    </tr>\n",
              "    <tr>\n",
              "      <th>Gross</th>\n",
              "      <td>int64</td>\n",
              "    </tr>\n",
              "    <tr>\n",
              "      <th>PF</th>\n",
              "      <td>int64</td>\n",
              "    </tr>\n",
              "    <tr>\n",
              "      <th>PT</th>\n",
              "      <td>int64</td>\n",
              "    </tr>\n",
              "    <tr>\n",
              "      <th>Misc Deduction Amount</th>\n",
              "      <td>int64</td>\n",
              "    </tr>\n",
              "    <tr>\n",
              "      <th>Net</th>\n",
              "      <td>int64</td>\n",
              "    </tr>\n",
              "    <tr>\n",
              "      <th>Remark</th>\n",
              "      <td>object</td>\n",
              "    </tr>\n",
              "    <tr>\n",
              "      <th>Date of leaving</th>\n",
              "      <td>datetime64[ns]</td>\n",
              "    </tr>\n",
              "    <tr>\n",
              "      <th>Attrition</th>\n",
              "      <td>int64</td>\n",
              "    </tr>\n",
              "  </tbody>\n",
              "</table>\n",
              "</div><br><label><b>dtype:</b> object</label>"
            ]
          },
          "metadata": {},
          "execution_count": 70
        }
      ]
    },
    {
      "cell_type": "markdown",
      "source": [
        "Step 1: Print actual column names"
      ],
      "metadata": {
        "id": "vlpt2a54nNOf"
      }
    },
    {
      "cell_type": "code",
      "source": [
        "df.columns.tolist()"
      ],
      "metadata": {
        "id": "gncg509PnPTB"
      },
      "execution_count": null,
      "outputs": []
    },
    {
      "cell_type": "markdown",
      "source": [
        " Step 2: Clean column names (recommended)\n"
      ],
      "metadata": {
        "id": "qjv07Ja-ncJB"
      }
    },
    {
      "cell_type": "code",
      "source": [
        "df.columns=df.columns.str.strip().str.lower().str.replace(' ','_')\n",
        "print(df.columns.tolist())\n"
      ],
      "metadata": {
        "id": "umQ-bfuxo4-t"
      },
      "execution_count": null,
      "outputs": []
    },
    {
      "cell_type": "code",
      "source": [
        "df['date_of_joining']\n"
      ],
      "metadata": {
        "id": "gsB6e6Xqp5W7"
      },
      "execution_count": null,
      "outputs": []
    },
    {
      "cell_type": "markdown",
      "source": [],
      "metadata": {
        "id": "NdBc8H8HtE0W"
      }
    },
    {
      "cell_type": "code",
      "source": [
        "import pandas as pd\n",
        "import matplotlib.pyplot as plt\n",
        "import numpy as np\n",
        "\n",
        "# Load the Excel file\n",
        "file_path = \"employee_database_pune_restaurant_attrition.xlsx\"\n",
        "df = pd.read_excel(file_path)\n",
        "\n",
        "# Step 1: Clean column names\n",
        "df.columns = df.columns.str.strip().str.lower().str.replace(\" \", \"_\")\n",
        "\n",
        "# Step 2: Convert date columns to datetime\n",
        "df['date_of_joining'] = pd.to_datetime(df['date_of_joining'], errors='coerce')\n",
        "df['date_of_leaving'] = pd.to_datetime(df['date_of_leaving'], errors='coerce')\n",
        "\n",
        "# Step 3: Extract joining and leaving months\n",
        "df['joining_month'] = df['date_of_joining'].dt.to_period('M')\n",
        "df['leaving_month'] = df['date_of_leaving'].dt.to_period('M')\n",
        "\n",
        "# Step 4: Filter for year 2024\n",
        "df_2024 = df[\n",
        "    (df['date_of_joining'].dt.year == 2024) |\n",
        "    (df['date_of_leaving'].dt.year == 2024)\n",
        "]\n",
        "\n",
        "# Step 5: Count joiners and attritions per month\n",
        "joiners_per_month = df_2024['joining_month'].value_counts().sort_index()\n",
        "leavers_per_month = df_2024['leaving_month'].value_counts().sort_index()\n",
        "\n",
        "# Step 6: Combine into one DataFrame\n",
        "monthly_trend = pd.DataFrame({\n",
        "    'New Joiners': joiners_per_month,\n",
        "    'Attrition': leavers_per_month\n",
        "}).fillna(0)\n",
        "\n",
        "# Step 7: Bar chart (grouped)\n",
        "months = [str(m) for m in monthly_trend.index]\n",
        "x = np.arange(len(months))  # label locations\n",
        "width = 0.35  # bar width\n",
        "\n",
        "fig, ax = plt.subplots(figsize=(12, 6))\n",
        "bars1 = ax.bar(x - width/2, monthly_trend['New Joiners'], width, label='New Joiners', color='green')\n",
        "bars2 = ax.bar(x + width/2, monthly_trend['Attrition'], width, label='Attrition', color='crimson')\n",
        "\n",
        "# Labels and formatting\n",
        "ax.set_xlabel('Month')\n",
        "ax.set_ylabel('Employee Count')\n",
        "ax.set_title('Monthly Trend of New Joiners vs Attrition (Jan–Dec 2024)')\n",
        "ax.set_xticks(x)\n",
        "ax.set_xticklabels(months, rotation=45)\n",
        "ax.legend()\n",
        "\n",
        "plt.tight_layout()\n",
        "plt.show()\n"
      ],
      "metadata": {
        "colab": {
          "base_uri": "https://localhost:8080/",
          "height": 426
        },
        "id": "mjFWeqmmtVuv",
        "outputId": "8bde8f5e-0d17-4a16-ffbc-3f2008c59693"
      },
      "execution_count": null,
      "outputs": [
        {
          "output_type": "display_data",
          "data": {
            "text/plain": [
              "<Figure size 1200x600 with 1 Axes>"
            ],
            "image/png": "[encoded data removed]"
          },
          "metadata": {}
        }
      ]
    },
    {
      "cell_type": "markdown",
      "source": [
        "Which location has the highest employee attrition rate?"
      ],
      "metadata": {
        "id": "8-gVbWy8ttqU"
      }
    },
    {
      "cell_type": "code",
      "source": [
        "print(df.columns.tolist())\n"
      ],
      "metadata": {
        "colab": {
          "base_uri": "https://localhost:8080/"
        },
        "id": "ZH3SRGspur9r",
        "outputId": "006d41b8-f29b-4611-d243-b52b5725b579"
      },
      "execution_count": null,
      "outputs": [
        {
          "output_type": "stream",
          "name": "stdout",
          "text": [
            "['employee_id', 'name', 'designation', 'department', 'location', 'date_of_joining', 'basic', 'hra', 'da', 'cca', 'other_allowance', 'incentives_amount', 'arrear', 'gross', 'pf', 'pt', 'misc_deduction_amount', 'net', 'remark', 'date_of_leaving', 'attrition', 'joining_month', 'leaving_month']\n"
          ]
        }
      ]
    },
    {
      "cell_type": "markdown",
      "source": [],
      "metadata": {
        "id": "3giOQ5vAuub_"
      }
    },
    {
      "cell_type": "code",
      "source": [
        "total_employees=('put_that_column_here', 'count')\n"
      ],
      "metadata": {
        "id": "veSnBn2XvMae"
      },
      "execution_count": null,
      "outputs": []
    },
    {
      "cell_type": "markdown",
      "source": [],
      "metadata": {
        "id": "2EKVMe9swKBZ"
      }
    },
    {
      "cell_type": "code",
      "source": [
        "import pandas as pd\n",
        "import matplotlib.pyplot as plt\n",
        "\n",
        "# Load the Excel file\n",
        "df = pd.read_excel(\"employee_database_pune_restaurant_attrition.xlsx\")\n",
        "\n",
        "# Clean column names\n",
        "df.columns = df.columns.str.strip().str.lower().str.replace(\" \", \"_\")\n",
        "\n",
        "# Convert date column to datetime\n",
        "df['date_of_leaving'] = pd.to_datetime(df['date_of_leaving'], errors='coerce')\n",
        "\n",
        "# Create attrition flag\n",
        "df['is_attrition'] = df['date_of_leaving'].notnull()\n",
        "\n",
        "# Dummy column to count employees\n",
        "df['employee_count'] = 1\n",
        "\n",
        "# Group by location for attritions\n",
        "attrition_by_location = df[df['is_attrition']].groupby('location')['employee_count'].count()\n",
        "\n",
        "# Plot Donut Chart\n",
        "plt.figure(figsize=(8, 6))\n",
        "colors = plt.cm.Set3.colors\n",
        "\n",
        "# Pie chart with a hole\n",
        "wedges, texts, autotexts = plt.pie(\n",
        "    attrition_by_location,\n",
        "    labels=attrition_by_location.index,\n",
        "    autopct='%1.1f%%',\n",
        "    startangle=90,\n",
        "    colors=colors,\n",
        "    wedgeprops=dict(width=0.4, edgecolor='w')\n",
        ")\n",
        "\n",
        "# Center title\n",
        "plt.title('Attrition Distribution by Location (2024) - Donut Chart')\n",
        "plt.tight_layout()\n",
        "plt.show()\n"
      ],
      "metadata": {
        "colab": {
          "base_uri": "https://localhost:8080/",
          "height": 607
        },
        "id": "YVTNvQ07vqUg",
        "outputId": "56158360-c19e-41d0-adbd-23c4afd1a879"
      },
      "execution_count": null,
      "outputs": [
        {
          "output_type": "display_data",
          "data": {
            "text/plain": [
              "<Figure size 800x600 with 1 Axes>"
            ],
            "image/png": "[encoded data removed]"
          },
          "metadata": {}
        }
      ]
    },
    {
      "cell_type": "markdown",
      "source": [],
      "metadata": {
        "id": "KY4QBRx4wLfh"
      }
    },
    {
      "cell_type": "markdown",
      "source": [
        "What are the top 5 departments with the highest attrition?"
      ],
      "metadata": {
        "id": "z77grToUwLi0"
      }
    },
    {
      "cell_type": "code",
      "source": [
        "import pandas as pd\n",
        "\n",
        "# Load the Excel file\n",
        "df = pd.read_excel(\"employee_database_pune_restaurant_attrition.xlsx\")\n",
        "\n",
        "# Clean column names\n",
        "df.columns = df.columns.str.strip().str.lower().str.replace(\" \", \"_\")\n",
        "\n",
        "# Convert date of leaving to datetime\n",
        "df['date_of_leaving'] = pd.to_datetime(df['date_of_leaving'], errors='coerce')\n",
        "\n",
        "# Create attrition flag\n",
        "df['is_attrition'] = df['date_of_leaving'].notnull()\n",
        "\n",
        "# Group by department to count attritions\n",
        "department_attrition = df[df['is_attrition']].groupby('department').size()\n",
        "\n",
        "# Sort and get top 5 departments\n",
        "top_5_departments = department_attrition.sort_values(ascending=False).head(5)\n",
        "\n",
        "# Display result\n",
        "print(\"Top 5 Departments with Highest Attrition:\")\n",
        "print(top_5_departments)\n"
      ],
      "metadata": {
        "colab": {
          "base_uri": "https://localhost:8080/"
        },
        "id": "4BLGxNS_wMUs",
        "outputId": "a0b81e5c-753d-4cf3-cf26-7a530f60c840"
      },
      "execution_count": null,
      "outputs": [
        {
          "output_type": "stream",
          "name": "stdout",
          "text": [
            "Top 5 Departments with Highest Attrition:\n",
            "department\n",
            "Kitchen       17\n",
            "Bar           13\n",
            "Cleaning      12\n",
            "Service       12\n",
            "Front Desk    11\n",
            "dtype: int64\n"
          ]
        }
      ]
    },
    {
      "cell_type": "code",
      "source": [
        "import pandas as pd\n",
        "import matplotlib.pyplot as plt\n",
        "\n",
        "# Load the Excel file\n",
        "df = pd.read_excel(\"employee_database_pune_restaurant_attrition.xlsx\")\n",
        "\n",
        "# Clean column names\n",
        "df.columns = df.columns.str.strip().str.lower().str.replace(\" \", \"_\")\n",
        "\n",
        "# Convert date of leaving to datetime\n",
        "df['date_of_leaving'] = pd.to_datetime(df['date_of_leaving'], errors='coerce')\n",
        "\n",
        "# Create attrition flag\n",
        "df['is_attrition'] = df['date_of_leaving'].notnull()\n",
        "\n",
        "# Group by department and count attritions\n",
        "department_attrition = df[df['is_attrition']].groupby('department').size()\n",
        "\n",
        "# Get top 5 departments\n",
        "top_5 = department_attrition.sort_values(ascending=False).head(5)\n",
        "\n",
        "# Plot line chart with markers\n",
        "plt.figure(figsize=(10, 6))\n",
        "plt.plot(top_5.index, top_5.values, marker='o', linestyle='-', color='blue', label='Attrition Count')\n",
        "\n",
        "# Add horizontal dashed red line at y=5\n",
        "plt.axhline(y=5, color='red', linestyle='--', linewidth=1.5, label='Target Line (5 Attritions)')\n",
        "\n",
        "# Add chart details\n",
        "plt.title('Top 5 Departments with Highest Attrition')\n",
        "plt.xlabel('Department')\n",
        "plt.ylabel('Number of Attritions')\n",
        "plt.grid(True, linestyle='--', alpha=0.5)\n",
        "plt.legend()\n",
        "plt.tight_layout()\n",
        "plt.show()\n"
      ],
      "metadata": {
        "colab": {
          "base_uri": "https://localhost:8080/",
          "height": 509
        },
        "id": "5zKLUkQBwqpS",
        "outputId": "6f8a009f-a0ac-4bc0-fa5a-7008c13c3872"
      },
      "execution_count": null,
      "outputs": [
        {
          "output_type": "display_data",
          "data": {
            "text/plain": [
              "<Figure size 1000x600 with 1 Axes>"
            ],
            "image/png": "[encoded data removed]"
          },
          "metadata": {}
        }
      ]
    },
    {
      "cell_type": "markdown",
      "source": [
        "What is the distribution of total gross salaries across locations or departments"
      ],
      "metadata": {
        "id": "ShWNOc8uxEGk"
      }
    },
    {
      "cell_type": "code",
      "source": [
        "import pandas as pd\n",
        "import matplotlib.pyplot as plt\n",
        "\n",
        "# Load the Excel file\n",
        "df = pd.read_excel(\"employee_database_pune_restaurant_attrition.xlsx\")\n",
        "\n",
        "# Clean column names\n",
        "df.columns = df.columns.str.strip().str.lower().str.replace(\" \", \"_\")\n",
        "\n",
        "# Ensure gross column is numeric\n",
        "df['gross'] = pd.to_numeric(df['gross'], errors='coerce')\n",
        "\n",
        "# ---- OPTION 1: Group by LOCATION ----\n",
        "gross_by_location = df.groupby('location')['gross'].sum().sort_values(ascending=False)\n",
        "\n",
        "# ---- OPTION 2: Group by DEPARTMENT ----\n",
        "gross_by_department = df.groupby('department')['gross'].sum().sort_values(ascending=False)\n",
        "\n",
        "# ---- Choose which one to plot: ----\n",
        "data_to_plot = gross_by_location  # OR use gross_by_department\n",
        "\n",
        "# Set unique colors for each bar\n",
        "colors = plt.cm.tab20.colors  # Up to 20 distinct colors\n",
        "\n",
        "# Plot Cluster Bar Chart\n",
        "plt.figure(figsize=(10, 6))\n",
        "bars = plt.bar(data_to_plot.index, data_to_plot.values, color=colors[:len(data_to_plot)])\n",
        "\n",
        "# Add chart details\n",
        "plt.title('Total Gross Salary Distribution by Location', fontsize=14)\n",
        "plt.xlabel('Location', fontsize=12)\n",
        "plt.ylabel('Total Gross Salary', fontsize=12)\n",
        "plt.xticks(rotation=45)\n",
        "plt.grid(axis='y', linestyle='--', alpha=0.5)\n",
        "\n",
        "# Add value labels on bars\n",
        "for bar in bars:\n",
        "    yval = bar.get_height()\n",
        "    plt.text(bar.get_x() + bar.get_width()/2.0, yval, f'{yval:,.0f}', va='bottom', ha='center', fontsize=9)\n",
        "\n",
        "plt.tight_layout()\n",
        "plt.show()\n"
      ],
      "metadata": {
        "colab": {
          "base_uri": "https://localhost:8080/",
          "height": 508
        },
        "id": "FjdlqkYbxEyw",
        "outputId": "e0fe7903-a76b-4487-b7fc-eed57e969a8e"
      },
      "execution_count": null,
      "outputs": [
        {
          "output_type": "display_data",
          "data": {
            "text/plain": [
              "<Figure size 1000x600 with 1 Axes>"
            ],
            "image/png": "[encoded data removed]"
          },
          "metadata": {}
        }
      ]
    },
    {
      "cell_type": "markdown",
      "source": [
        "How many employees left within 3 months of joining?"
      ],
      "metadata": {
        "id": "42BfrvB4xm7Z"
      }
    },
    {
      "cell_type": "code",
      "source": [
        "import pandas as pd\n",
        "\n",
        "# Load Excel file\n",
        "df = pd.read_excel(\"employee_database_pune_restaurant_attrition.xlsx\")\n",
        "\n",
        "# Clean column names\n",
        "df.columns = df.columns.str.strip().str.lower().str.replace(\" \", \"_\")\n",
        "\n",
        "# Convert dates\n",
        "df['date_of_joining'] = pd.to_datetime(df['date_of_joining'], errors='coerce')\n",
        "df['date_of_leaving'] = pd.to_datetime(df['date_of_leaving'], errors='coerce')\n",
        "\n",
        "# Filter employees who left (non-null leaving date)\n",
        "df['left_within_3_months'] = (\n",
        "    df['date_of_leaving'].notnull() &\n",
        "    ((df['date_of_leaving'] - df['date_of_joining']).dt.days <= 90)\n",
        ")\n",
        "\n",
        "# Count how many employees left within 3 months\n",
        "count_left_within_3_months = df['left_within_3_months'].sum()\n",
        "print(f\"Employees who left within 3 months of joining: {count_left_within_3_months}\")\n"
      ],
      "metadata": {
        "colab": {
          "base_uri": "https://localhost:8080/"
        },
        "id": "XQM7KCLUxnuJ",
        "outputId": "2c0cdde0-2925-4e05-91e8-e020d0b2fbfb"
      },
      "execution_count": null,
      "outputs": [
        {
          "output_type": "stream",
          "name": "stdout",
          "text": [
            "Employees who left within 3 months of joining: 52\n"
          ]
        }
      ]
    },
    {
      "cell_type": "code",
      "source": [
        "import matplotlib.pyplot as plt\n",
        "\n",
        "# Create a simple KPI card using Matplotlib\n",
        "fig, ax = plt.subplots(figsize=(4, 2))\n",
        "ax.text(0.5, 0.6, str(count_left_within_3_months), fontsize=36, ha='center', va='center', color='crimson')\n",
        "ax.text(0.5, 0.25, \"Left Within 3 Months\", fontsize=14, ha='center', va='center', color='gray')\n",
        "\n",
        "# Aesthetic settings\n",
        "ax.set_facecolor('#f7f7f7')\n",
        "fig.patch.set_facecolor('#f7f7f7')\n",
        "ax.set_xticks([])\n",
        "ax.set_yticks([])\n",
        "for spine in ax.spines.values():\n",
        "    spine.set_visible(False)\n",
        "\n",
        "plt.tight_layout()\n",
        "plt.show()\n"
      ],
      "metadata": {
        "colab": {
          "base_uri": "https://localhost:8080/",
          "height": 207
        },
        "id": "0f7-Hrqvx9TI",
        "outputId": "24119b3e-2e42-4d1b-f0bb-e05dd3cd5498"
      },
      "execution_count": null,
      "outputs": [
        {
          "output_type": "display_data",
          "data": {
            "text/plain": [
              "<Figure size 400x200 with 1 Axes>"
            ],
            "image/png": "[encoded data removed]"
          },
          "metadata": {}
        }
      ]
    },
    {
      "cell_type": "markdown",
      "source": [
        "What percentage of deductions is due to breakages across roles like waiters, kitchen staff, etc.?"
      ],
      "metadata": {
        "id": "Z18CCZNvyLg4"
      }
    },
    {
      "cell_type": "code",
      "source": [
        "print(df.columns.tolist())\n"
      ],
      "metadata": {
        "colab": {
          "base_uri": "https://localhost:8080/"
        },
        "id": "btrX_dzczdoT",
        "outputId": "f7069130-a069-4ce5-e0e4-9085787ecb3a"
      },
      "execution_count": null,
      "outputs": [
        {
          "output_type": "stream",
          "name": "stdout",
          "text": [
            "['employee_id', 'name', 'designation', 'department', 'location', 'date_of_joining', 'basic', 'hra', 'da', 'cca', 'other_allowance', 'incentives_amount', 'arrear', 'gross', 'pf', 'pt', 'misc_deduction_amount', 'net', 'remark', 'date_of_leaving', 'attrition', 'left_within_3_months']\n"
          ]
        }
      ]
    },
    {
      "cell_type": "code",
      "source": [
        "import pandas as pd\n",
        "\n",
        "# Load the Excel file\n",
        "df = pd.read_excel(\"employee_database_pune_restaurant_attrition.xlsx\")\n",
        "\n",
        "# Clean column names\n",
        "df.columns = df.columns.str.strip().str.lower().str.replace(\" \", \"_\")\n",
        "\n",
        "# Convert deduction columns to numeric\n",
        "df['misc_deduction_amount'] = pd.to_numeric(df['misc_deduction_amount'], errors='coerce')\n",
        "df['net'] = pd.to_numeric(df['net'], errors='coerce')  # Assuming total deductions = gross - net\n",
        "\n",
        "# Let's assume total deductions = gross - net (or use a separate 'deductions' column if available)\n",
        "df['gross'] = pd.to_numeric(df['gross'], errors='coerce')\n",
        "df['deductions'] = df['gross'] - df['net']\n",
        "\n",
        "# Group by designation\n",
        "grouped = df.groupby('designation').agg({\n",
        "    'misc_deduction_amount': 'sum',\n",
        "    'deductions': 'sum'\n",
        "})\n",
        "\n",
        "# Calculate percentage of deductions due to breakages\n",
        "grouped['breakage_percent'] = (grouped['misc_deduction_amount'] / grouped['deductions']) * 100\n",
        "\n",
        "# Sort descending\n",
        "grouped = grouped.sort_values(by='breakage_percent', ascending=False)\n",
        "\n",
        "# Display result\n",
        "print(grouped[['breakage_percent']].round(2))\n"
      ],
      "metadata": {
        "colab": {
          "base_uri": "https://localhost:8080/"
        },
        "id": "fSkEtd5z0fiz",
        "outputId": "9df092d1-e164-46b2-ad15-d80dee17f950"
      },
      "execution_count": null,
      "outputs": [
        {
          "output_type": "stream",
          "name": "stdout",
          "text": [
            "              breakage_percent\n",
            "designation                   \n",
            "Waiter                    5.72\n",
            "Cashier                   5.31\n",
            "Chef                      5.09\n",
            "Bartender                 4.57\n",
            "Receptionist              4.45\n",
            "Sous Chef                 3.88\n",
            "Cleaner                   3.81\n",
            "Manager                   3.15\n"
          ]
        }
      ]
    },
    {
      "cell_type": "markdown",
      "source": [],
      "metadata": {
        "id": "Wgq-1v-I0vUZ"
      }
    },
    {
      "cell_type": "markdown",
      "source": [
        "What is the average tenure (in months) of resigned vs absconded employees?"
      ],
      "metadata": {
        "id": "uVcVjndH0vaU"
      }
    },
    {
      "cell_type": "code",
      "source": [
        "import pandas as pd\n",
        "\n",
        "# Load the Excel file\n",
        "df = pd.read_excel(\"employee_database_pune_restaurant_attrition.xlsx\")\n",
        "\n",
        "# Clean column names\n",
        "df.columns = df.columns.str.strip().str.lower().str.replace(\" \", \"_\")\n",
        "\n",
        "# Convert dates to datetime\n",
        "df['date_of_joining'] = pd.to_datetime(df['date_of_joining'], errors='coerce')\n",
        "df['date_of_leaving'] = pd.to_datetime(df['date_of_leaving'], errors='coerce')\n",
        "\n",
        "# Filter only resigned or absconded employees\n",
        "df_exit = df[df['remark'].str.lower().isin(['resigned', 'abscond'])].copy()\n",
        "\n",
        "# Calculate tenure in months\n",
        "df_exit['tenure_months'] = ((df_exit['date_of_leaving'] - df_exit['date_of_joining']).dt.days) / 30.44\n",
        "\n",
        "# Group by remark and calculate average\n",
        "avg_tenure = df_exit.groupby('remark')['tenure_months'].mean().round(2)\n",
        "\n",
        "# Display result\n",
        "print(\"Average Tenure (in months) by Exit Type:\")\n",
        "print(avg_tenure)\n"
      ],
      "metadata": {
        "colab": {
          "base_uri": "https://localhost:8080/"
        },
        "id": "h7Js9PE_0woX",
        "outputId": "dba4bdf2-2314-47a3-f2d1-ff6a85a90895"
      },
      "execution_count": null,
      "outputs": [
        {
          "output_type": "stream",
          "name": "stdout",
          "text": [
            "Average Tenure (in months) by Exit Type:\n",
            "remark\n",
            "Resigned    2.03\n",
            "Name: tenure_months, dtype: float64\n"
          ]
        }
      ]
    },
    {
      "cell_type": "markdown",
      "source": [],
      "metadata": {
        "id": "4BTxaWX71Xp4"
      }
    },
    {
      "cell_type": "markdown",
      "source": [
        "KPI\n"
      ],
      "metadata": {
        "id": "RfxiFWrF1XuP"
      }
    },
    {
      "cell_type": "code",
      "source": [
        "import pandas as pd\n",
        "import matplotlib.pyplot as plt\n",
        "from matplotlib.patches import FancyBboxPatch\n",
        "\n",
        "# Load and clean data\n",
        "df = pd.read_excel(\"employee_database_pune_restaurant_attrition.xlsx\")\n",
        "df.columns = df.columns.str.strip().str.lower().str.replace(\" \", \"_\")\n",
        "\n",
        "# Convert dates\n",
        "df['date_of_joining'] = pd.to_datetime(df['date_of_joining'], errors='coerce')\n",
        "df['date_of_leaving'] = pd.to_datetime(df['date_of_leaving'], errors='coerce')\n",
        "\n",
        "# Filter 2024 data\n",
        "df_2024 = df[\n",
        "    (df['date_of_joining'].dt.year <= 2024) &\n",
        "    ((df['date_of_leaving'].isna()) | (df['date_of_leaving'].dt.year >= 2024))\n",
        "]\n",
        "\n",
        "# KPIs\n",
        "total_employees = df_2024.shape[0]\n",
        "new_hires = df[df['date_of_joining'].dt.year == 2024].shape[0]\n",
        "total_left = df[df['date_of_leaving'].dt.year == 2024].shape[0]\n",
        "average_salary = df['gross'].mean().round(2)\n",
        "\n",
        "kpis = {\n",
        "    'Total Employees (2024)': total_employees,\n",
        "    'New Hires (2024)': new_hires,\n",
        "    'Employees Left (2024)': total_left,\n",
        "    'Avg Gross Salary': f\"₹{average_salary:,.0f}\"\n",
        "}\n",
        "\n",
        "# --- KPI Card Styling ---\n",
        "fig, axes = plt.subplots(1, 4, figsize=(18, 4))\n",
        "fig.patch.set_facecolor('#1e1e1e')  # Dark background\n",
        "\n",
        "for ax, (title, value) in zip(axes, kpis.items()):\n",
        "    ax.set_facecolor('#2b2b2b')  # Card background\n",
        "    ax.set_xticks([])\n",
        "    ax.set_yticks([])\n",
        "    for spine in ax.spines.values():\n",
        "        spine.set_visible(False)\n",
        "\n",
        "    # Rounded rectangle behind the text\n",
        "    rect = FancyBboxPatch(\n",
        "        (0, 0), 1, 1,\n",
        "        boxstyle=\"round,pad=0.02,rounding_size=15\",\n",
        "        transform=ax.transAxes,\n",
        "        facecolor='#2b2b2b',\n",
        "        edgecolor='none'\n",
        "    )\n",
        "    ax.add_patch(rect)\n",
        "\n",
        "    # Add value and label text\n",
        "    ax.text(0.5, 0.6, str(value), fontsize=24, ha='center', va='center', color='white', weight='bold')\n",
        "    ax.text(0.5, 0.28, title, fontsize=11, ha='center', va='center', color='lightgray')\n",
        "\n",
        "plt.tight_layout()\n",
        "plt.show()\n"
      ],
      "metadata": {
        "colab": {
          "base_uri": "https://localhost:8080/",
          "height": 197
        },
        "id": "OlOU6BBh3Gf7",
        "outputId": "9fba3018-aed7-41bc-a521-08e8833883ce"
      },
      "execution_count": null,
      "outputs": [
        {
          "output_type": "display_data",
          "data": {
            "text/plain": [
              "<Figure size 1800x400 with 4 Axes>"
            ],
            "image/png": "[encoded data removed]"
          },
          "metadata": {}
        }
      ]
    }
  ]
}